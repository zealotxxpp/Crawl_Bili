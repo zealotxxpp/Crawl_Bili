{
 "cells": [
  {
   "cell_type": "code",
   "execution_count": 2,
   "metadata": {},
   "outputs": [],
   "source": [
    "import requests, re, datetime, pymysql\n",
    "from bs4 import BeautifulSoup as BS\n",
    "from pandas import Series, DataFrame\n",
    "import pandas as pd"
   ]
  },
  {
   "cell_type": "code",
   "execution_count": 3,
   "metadata": {},
   "outputs": [],
   "source": [
    "def open_url(url):\n",
    "    headers = {'User-Agent': 'Mozilla/5.0 (Windows NT 10.0; WOW64) AppleWebKit/537.36 (KHTML, like Gecko) Chrome/55.0.2883.103 Safari/537.36'}\n",
    "    response = requests.get(url=url, headers=headers)\n",
    "    response.encoding = 'utf-8'\n",
    "    html = response.text\n",
    "    return html"
   ]
  },
  {
   "cell_type": "code",
   "execution_count": 4,
   "metadata": {},
   "outputs": [],
   "source": [
    "def get_cid(html):\n",
    "    #用try防止有些av号没视频\n",
    "    try:\n",
    "        soup = BS(html, 'lxml')\n",
    "        #视频名\n",
    "        title = soup.select('div.v-title > h1')[0].get_text()\n",
    "        #投稿人\n",
    "        author = soup.select('meta[name=\"author\"]')[0]['content']\n",
    "        #弹幕的网站代码\n",
    "        cid = re.findall(r'cid=(\\d+)&', html)[0]\n",
    "        print(\"{0}, {1}, cid:{2}\".format(title, author, cid))\n",
    "        return cid\n",
    "    except:\n",
    "        print('视频不见了哟')\n",
    "        return False"
   ]
  },
  {
   "cell_type": "code",
   "execution_count": 5,
   "metadata": {},
   "outputs": [],
   "source": [
    "def get_upload_date(html):\n",
    "    #用try防止有些av号没视频\n",
    "    try:\n",
    "        soup = BS(html, 'lxml')\n",
    "        #视频名\n",
    "        title = soup.select('div.v-title > h1')[0].get_text()\n",
    "        #投稿人\n",
    "        author = soup.select('meta[name=\"author\"]')[0]['content']\n",
    "        #弹幕的网站代码\n",
    "        upload_date = re.findall(r'datetime=\"(\\d{4}-\\d{2}-\\d{2})', html)[0]\n",
    "        print(\"{0}, {1}, upload_date:{2}\".format(title, author, upload_date))\n",
    "        return datetime.datetime.strptime(upload_date, \"%Y-%m-%d\")\n",
    "    except:\n",
    "        print('视频不见了哟')\n",
    "        return False"
   ]
  },
  {
   "cell_type": "code",
   "execution_count": 6,
   "metadata": {},
   "outputs": [],
   "source": [
    "def sec2str(seconds):\n",
    "    seconds = eval(seconds)\n",
    "    m, s = divmod(seconds, 60)\n",
    "    h, m = divmod(m, 60)\n",
    "    time = \"%02d:%02d:%02d\" % (h, m, s)\n",
    "    return time\n",
    "\n",
    "def stamp2date(timestamp):\n",
    "    time = datetime.datetime.fromtimestamp(int(timestamp))\n",
    "    return time.strftime('%Y-%m-%d %H:%M:%S')\n"
   ]
  },
  {
   "cell_type": "code",
   "execution_count": 7,
   "metadata": {},
   "outputs": [],
   "source": [
    "def url_danmu_save(url_danmu, av_aid, av_cid):\n",
    "    \n",
    "    danmu_html = open_url(url=url_danmu)\n",
    "    soup = BS(danmu_html, 'lxml')\n",
    "    all_d = soup.select('d')\n",
    "    \n",
    "    config = {\n",
    "          'host':'localhost',\n",
    "          'port':3306,\n",
    "          'user':'root',\n",
    "          'password':'ms020312',\n",
    "          'db':'test',\n",
    "          'charset':'utf8mb4'\n",
    "          }\n",
    "    \n",
    "    connection = pymysql.connect(**config)\n",
    "    \n",
    "    try:\n",
    "        with connection.cursor() as cursor:\n",
    "            N = 0\n",
    "            now_str = datetime.datetime.now().strftime('%Y-%m-%d %H:%M:%S')\n",
    "            for d in all_d:\n",
    "                #把d标签中P的各个属性分离开\n",
    "                danmu_list = d['p'].split(',')\n",
    "\n",
    "                aid = av_aid\n",
    "                cid = av_cid\n",
    "                danmu_time = sec2str(danmu_list[0])\n",
    "                danmu_type = danmu_list[1]\n",
    "                danmu_size = danmu_list[2]\n",
    "                danmu_color = danmu_list[3]\n",
    "                danmu_stime = stamp2date(danmu_list[4])\n",
    "                danmu_pole = danmu_list[5]\n",
    "                sender_ID = danmu_list[6] \n",
    "                rowID = danmu_list[7] \n",
    "                danmu_message = d.get_text()\n",
    "                record_time = now_str\n",
    " \n",
    "                \n",
    "                \n",
    "                #print(danmu_list[0])\n",
    "                #print(danmu_message)\n",
    "\n",
    "                sql = \"\"\"INSERT INTO danmu(aid,cid,danmu_time,danmu_type,danmu_size,danmu_color,danmu_stime,danmu_pole,\n",
    "                sender_ID,rowID,danmu_message,record_time)VALUES(%s,%s,%s,%s,%s,%s,%s,%s,%s,%s,%s,%s);\"\"\"\n",
    "\n",
    "                cursor.execute(sql,(\n",
    "                aid,cid,danmu_time,danmu_type,danmu_size,danmu_color,danmu_stime,danmu_pole,\n",
    "                sender_ID,rowID,danmu_message,record_time))\n",
    "\n",
    "                N = N + 1\n",
    "\n",
    "        connection.commit()\n",
    "        print('INSET {0} ROWS in Table danmu'.format(N))\n",
    "    finally:\n",
    "        connection.close()"
   ]
  },
  {
   "cell_type": "code",
   "execution_count": 8,
   "metadata": {},
   "outputs": [],
   "source": [
    "def CT_danmu():\n",
    "    \n",
    "    config = {\n",
    "          'host':'localhost',\n",
    "          'port':3306,\n",
    "          'user':'root',\n",
    "          'password':'ms020312',\n",
    "          'db':'test',\n",
    "          'charset':'utf8mb4'\n",
    "          }\n",
    "    \n",
    "    connection = pymysql.connect(**config)\n",
    "\n",
    "    try:\n",
    "        with connection.cursor() as cursor:\n",
    "            # Create a new record\n",
    "            sql = \"\"\"create table danmu(\n",
    "            aid varchar(20), cid varchar(20),\n",
    "            danmu_time varchar(20),\n",
    "            danmu_type int, danmu_size int,\n",
    "            danmu_color varchar(20),\n",
    "            danmu_stime datetime,\n",
    "            danmu_pole int,\n",
    "            sender_ID varchar(20),\n",
    "            rowID varchar(20),\n",
    "            danmu_message varchar(60),\n",
    "            record_time datetime\n",
    "            )\n",
    "            engine=innodb charset utf8mb4\"\"\" \n",
    "            cursor.execute(sql)\n",
    "\n",
    "        connection.commit()\n",
    "    finally:\n",
    "        connection.close()"
   ]
  },
  {
   "cell_type": "code",
   "execution_count": 9,
   "metadata": {},
   "outputs": [],
   "source": [
    "def danmu_save_last(av_aid):\n",
    "    \n",
    "    video_url ='http://www.bilibili.com/video/av{}/index_1.html'.format(av_aid)\n",
    "    html = open_url(video_url)\n",
    "    av_cid = get_cid(html)\n",
    "    upload_date = get_upload_date(html)\n",
    "    \n",
    "    url_danmu = 'http://comment.bilibili.com/{}.xml'.format(av_cid)\n",
    "    \n",
    "    url_danmu_save(url_danmu, av_aid, av_cid)"
   ]
  },
  {
   "cell_type": "code",
   "execution_count": 16,
   "metadata": {},
   "outputs": [],
   "source": [
    "def get_danmuhislist(av_cid):\n",
    "    url_danmuhis = 'https://comment.bilibili.com/rolldate,{}'.format(av_cid)\n",
    "    html = open_url(url_danmuhis)\n",
    "    his_text = re.findall(r'{\\S+?}',html)\n",
    "    his_list = []\n",
    "    for i in his_text:\n",
    "        d = dict()\n",
    "        d['timestamp'] = int(re.findall(r'timestamp\":\"(\\d+)',i)[0])\n",
    "        d['new'] = int(re.findall(r'new\":\"(\\d+)',i)[0])\n",
    "        his_list.append(d)\n",
    "    his_list_DF = DataFrame(his_list)\n",
    "    return his_list_DF"
   ]
  },
  {
   "cell_type": "code",
   "execution_count": 11,
   "metadata": {},
   "outputs": [],
   "source": [
    "def danmu_save_all(av_aid):\n",
    "    \n",
    "    video_url ='http://www.bilibili.com/video/av{}/index_1.html'.format(av_aid)\n",
    "    html = open_url(video_url)\n",
    "    av_cid = get_cid(html)\n",
    "    upload_date = get_upload_date(html)\n",
    "    \n",
    "    url_danmu = 'http://comment.bilibili.com/{}.xml'.format(av_cid)\n",
    "    print('saving url: %s' % (url_danmu))\n",
    "    url_danmu_save(url_danmu, av_aid, av_cid)\n",
    "    print('current danmu_his been saved')\n",
    "    \n",
    "    \n",
    "    danmu_hislist = get_danmuhislist(av_cid)\n",
    "    N = 0\n",
    "    for x in danmu_hislist.timestamp:\n",
    "        url_danmu = 'https://comment.bilibili.com/dmroll,%s,%s' % (x, av_cid)\n",
    "        print('saving url: %s' % (url_danmu))\n",
    "        url_danmu_save(url_danmu, av_aid, av_cid)\n",
    "        N = N + 1\n",
    "    print('%d danmu_his been saved' % (N))"
   ]
  },
  {
   "cell_type": "code",
   "execution_count": 12,
   "metadata": {},
   "outputs": [],
   "source": [
    "av_aid = 20396426"
   ]
  },
  {
   "cell_type": "code",
   "execution_count": 17,
   "metadata": {},
   "outputs": [
    {
     "name": "stdout",
     "output_type": "stream",
     "text": [
      "【屎O说55】和大锤组一起攻克难关, STN工作室, cid:33336165\n",
      "【屎O说55】和大锤组一起攻克难关, STN工作室, upload_date:2018-03-05\n",
      "saving url: http://comment.bilibili.com/33336165.xml\n",
      "INSET 784 ROWS in Table danmu\n",
      "current danmu_his been saved\n",
      "saving url: https://comment.bilibili.com/dmroll,1520265600,33336165\n",
      "INSET 660 ROWS in Table danmu\n",
      "1 danmu_his been saved\n"
     ]
    }
   ],
   "source": [
    "danmu_save_all(av_aid)"
   ]
  },
  {
   "cell_type": "code",
   "execution_count": null,
   "metadata": {},
   "outputs": [],
   "source": []
  },
  {
   "cell_type": "code",
   "execution_count": null,
   "metadata": {},
   "outputs": [],
   "source": []
  },
  {
   "cell_type": "code",
   "execution_count": null,
   "metadata": {},
   "outputs": [],
   "source": []
  },
  {
   "cell_type": "code",
   "execution_count": null,
   "metadata": {},
   "outputs": [],
   "source": []
  }
 ],
 "metadata": {
  "kernelspec": {
   "display_name": "Python 3",
   "language": "python",
   "name": "python3"
  },
  "language_info": {
   "codemirror_mode": {
    "name": "ipython",
    "version": 3
   },
   "file_extension": ".py",
   "mimetype": "text/x-python",
   "name": "python",
   "nbconvert_exporter": "python",
   "pygments_lexer": "ipython3",
   "version": "3.6.3"
  }
 },
 "nbformat": 4,
 "nbformat_minor": 2
}
